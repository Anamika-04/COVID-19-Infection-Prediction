{
 "cells": [
  {
   "cell_type": "markdown",
   "id": "856d9eaf",
   "metadata": {},
   "source": [
    "# COVID-19 Infection Prediction\n",
    "#### Predicting whether a person is infected with COVID-19 or not based on the COVID-19 dataset taken from Data World.\n",
    "\n",
    "By: Anamika Singh"
   ]
  },
  {
   "cell_type": "code",
   "execution_count": 1,
   "id": "fe55eaa7",
   "metadata": {},
   "outputs": [],
   "source": [
    "# IMPORTING REQUIRED LIBRARIES\n",
    "\n",
    "import pandas as pd\n",
    "from sklearn.preprocessing import LabelEncoder\n",
    "le = LabelEncoder()"
   ]
  },
  {
   "cell_type": "markdown",
   "id": "53fe84d8",
   "metadata": {},
   "source": [
    "The data I'm working on is a medium dataset having 2,78,848 rows and 10 columns, including the target variable i.e whether a person is infected or not."
   ]
  },
  {
   "cell_type": "code",
   "execution_count": 2,
   "id": "77f4ff52",
   "metadata": {},
   "outputs": [
    {
     "data": {
      "text/html": [
       "<div>\n",
       "<style scoped>\n",
       "    .dataframe tbody tr th:only-of-type {\n",
       "        vertical-align: middle;\n",
       "    }\n",
       "\n",
       "    .dataframe tbody tr th {\n",
       "        vertical-align: top;\n",
       "    }\n",
       "\n",
       "    .dataframe thead th {\n",
       "        text-align: right;\n",
       "    }\n",
       "</style>\n",
       "<table border=\"1\" class=\"dataframe\">\n",
       "  <thead>\n",
       "    <tr style=\"text-align: right;\">\n",
       "      <th></th>\n",
       "      <th>test_date</th>\n",
       "      <th>cough</th>\n",
       "      <th>fever</th>\n",
       "      <th>sore_throat</th>\n",
       "      <th>shortness_of_breath</th>\n",
       "      <th>head_ache</th>\n",
       "      <th>corona_result</th>\n",
       "      <th>age_60_and_above</th>\n",
       "      <th>gender</th>\n",
       "      <th>test_indication</th>\n",
       "    </tr>\n",
       "  </thead>\n",
       "  <tbody>\n",
       "    <tr>\n",
       "      <th>0</th>\n",
       "      <td>2020-04-30</td>\n",
       "      <td>0</td>\n",
       "      <td>0</td>\n",
       "      <td>0</td>\n",
       "      <td>0</td>\n",
       "      <td>0</td>\n",
       "      <td>negative</td>\n",
       "      <td>None</td>\n",
       "      <td>female</td>\n",
       "      <td>Other</td>\n",
       "    </tr>\n",
       "    <tr>\n",
       "      <th>1</th>\n",
       "      <td>2020-04-30</td>\n",
       "      <td>1</td>\n",
       "      <td>0</td>\n",
       "      <td>0</td>\n",
       "      <td>0</td>\n",
       "      <td>0</td>\n",
       "      <td>negative</td>\n",
       "      <td>None</td>\n",
       "      <td>female</td>\n",
       "      <td>Other</td>\n",
       "    </tr>\n",
       "    <tr>\n",
       "      <th>2</th>\n",
       "      <td>2020-04-30</td>\n",
       "      <td>0</td>\n",
       "      <td>1</td>\n",
       "      <td>0</td>\n",
       "      <td>0</td>\n",
       "      <td>0</td>\n",
       "      <td>negative</td>\n",
       "      <td>None</td>\n",
       "      <td>male</td>\n",
       "      <td>Other</td>\n",
       "    </tr>\n",
       "  </tbody>\n",
       "</table>\n",
       "</div>"
      ],
      "text/plain": [
       "    test_date cough fever sore_throat shortness_of_breath head_ache  \\\n",
       "0  2020-04-30     0     0           0                   0         0   \n",
       "1  2020-04-30     1     0           0                   0         0   \n",
       "2  2020-04-30     0     1           0                   0         0   \n",
       "\n",
       "  corona_result age_60_and_above  gender test_indication  \n",
       "0      negative             None  female           Other  \n",
       "1      negative             None  female           Other  \n",
       "2      negative             None    male           Other  "
      ]
     },
     "execution_count": 2,
     "metadata": {},
     "output_type": "execute_result"
    }
   ],
   "source": [
    "# LOADING THE DATASET\n",
    "\n",
    "df = pd.read_csv(\"risk.csv\", low_memory = False)\n",
    "df.head(3)"
   ]
  },
  {
   "cell_type": "markdown",
   "id": "d0fa4365",
   "metadata": {},
   "source": [
    "It is a good practice to always have the target variable as the last column in the dataset. "
   ]
  },
  {
   "cell_type": "code",
   "execution_count": 3,
   "id": "f6c40d6c",
   "metadata": {},
   "outputs": [],
   "source": [
    "# RE-STRUCTURING DATA\n",
    "\n",
    "df.pop('test_date')\n",
    "move = df.pop('corona_result')\n",
    "df.insert(8, 'corona_result', move)"
   ]
  },
  {
   "cell_type": "markdown",
   "id": "c86456d1",
   "metadata": {},
   "source": [
    "Missing values are usually represented in the form of Nan or null or None in the dataset.\n",
    "\n",
    "df.info() function can be used to give information about the dataset. This will provide you with the column names along with the number of non – null values in each column.\n",
    "\n",
    "Another way of finding null values in the data is by using the isnull() function."
   ]
  },
  {
   "cell_type": "code",
   "execution_count": 4,
   "id": "0b126111",
   "metadata": {},
   "outputs": [
    {
     "name": "stdout",
     "output_type": "stream",
     "text": [
      "<class 'pandas.core.frame.DataFrame'>\n",
      "RangeIndex: 278848 entries, 0 to 278847\n",
      "Data columns (total 9 columns):\n",
      " #   Column               Non-Null Count   Dtype \n",
      "---  ------               --------------   ----- \n",
      " 0   cough                278848 non-null  object\n",
      " 1   fever                278848 non-null  object\n",
      " 2   sore_throat          278848 non-null  object\n",
      " 3   shortness_of_breath  278848 non-null  object\n",
      " 4   head_ache            278848 non-null  object\n",
      " 5   age_60_and_above     278848 non-null  object\n",
      " 6   gender               278848 non-null  object\n",
      " 7   test_indication      278848 non-null  object\n",
      " 8   corona_result        278848 non-null  object\n",
      "dtypes: object(9)\n",
      "memory usage: 19.1+ MB\n"
     ]
    }
   ],
   "source": [
    "# CHECKING FOR MISSING VLAUES\n",
    "\n",
    "df.info()"
   ]
  },
  {
   "cell_type": "markdown",
   "id": "f8b0ff3a",
   "metadata": {},
   "source": [
    "So, our data has no missing values. \n",
    "Dropping unnecessary rows in order to clean the data for modelling."
   ]
  },
  {
   "cell_type": "code",
   "execution_count": 5,
   "id": "c9dfd7ea",
   "metadata": {},
   "outputs": [],
   "source": [
    "df = df.drop(df[df['cough'] == 'None'].index)\n",
    "df = df.drop(df[df['fever'] == 'None'].index)\n",
    "df = df.drop(df[df['sore_throat'] == 'None'].index)\n",
    "df = df.drop(df[df['corona_result'] == 'other'].index)"
   ]
  },
  {
   "cell_type": "code",
   "execution_count": 6,
   "id": "943df15e",
   "metadata": {},
   "outputs": [
    {
     "data": {
      "text/html": [
       "<div>\n",
       "<style scoped>\n",
       "    .dataframe tbody tr th:only-of-type {\n",
       "        vertical-align: middle;\n",
       "    }\n",
       "\n",
       "    .dataframe tbody tr th {\n",
       "        vertical-align: top;\n",
       "    }\n",
       "\n",
       "    .dataframe thead th {\n",
       "        text-align: right;\n",
       "    }\n",
       "</style>\n",
       "<table border=\"1\" class=\"dataframe\">\n",
       "  <thead>\n",
       "    <tr style=\"text-align: right;\">\n",
       "      <th></th>\n",
       "      <th>cough</th>\n",
       "      <th>fever</th>\n",
       "      <th>sore_throat</th>\n",
       "      <th>shortness_of_breath</th>\n",
       "      <th>head_ache</th>\n",
       "      <th>age_60_and_above</th>\n",
       "      <th>gender</th>\n",
       "      <th>test_indication</th>\n",
       "      <th>corona_result</th>\n",
       "    </tr>\n",
       "  </thead>\n",
       "  <tbody>\n",
       "    <tr>\n",
       "      <th>0</th>\n",
       "      <td>0</td>\n",
       "      <td>0</td>\n",
       "      <td>0</td>\n",
       "      <td>0</td>\n",
       "      <td>0</td>\n",
       "      <td>None</td>\n",
       "      <td>female</td>\n",
       "      <td>Other</td>\n",
       "      <td>negative</td>\n",
       "    </tr>\n",
       "    <tr>\n",
       "      <th>1</th>\n",
       "      <td>1</td>\n",
       "      <td>0</td>\n",
       "      <td>0</td>\n",
       "      <td>0</td>\n",
       "      <td>0</td>\n",
       "      <td>None</td>\n",
       "      <td>female</td>\n",
       "      <td>Other</td>\n",
       "      <td>negative</td>\n",
       "    </tr>\n",
       "    <tr>\n",
       "      <th>2</th>\n",
       "      <td>0</td>\n",
       "      <td>1</td>\n",
       "      <td>0</td>\n",
       "      <td>0</td>\n",
       "      <td>0</td>\n",
       "      <td>None</td>\n",
       "      <td>male</td>\n",
       "      <td>Other</td>\n",
       "      <td>negative</td>\n",
       "    </tr>\n",
       "    <tr>\n",
       "      <th>3</th>\n",
       "      <td>1</td>\n",
       "      <td>0</td>\n",
       "      <td>0</td>\n",
       "      <td>0</td>\n",
       "      <td>0</td>\n",
       "      <td>None</td>\n",
       "      <td>female</td>\n",
       "      <td>Other</td>\n",
       "      <td>negative</td>\n",
       "    </tr>\n",
       "    <tr>\n",
       "      <th>4</th>\n",
       "      <td>1</td>\n",
       "      <td>0</td>\n",
       "      <td>0</td>\n",
       "      <td>0</td>\n",
       "      <td>0</td>\n",
       "      <td>None</td>\n",
       "      <td>male</td>\n",
       "      <td>Other</td>\n",
       "      <td>negative</td>\n",
       "    </tr>\n",
       "  </tbody>\n",
       "</table>\n",
       "</div>"
      ],
      "text/plain": [
       "  cough fever sore_throat shortness_of_breath head_ache age_60_and_above  \\\n",
       "0     0     0           0                   0         0             None   \n",
       "1     1     0           0                   0         0             None   \n",
       "2     0     1           0                   0         0             None   \n",
       "3     1     0           0                   0         0             None   \n",
       "4     1     0           0                   0         0             None   \n",
       "\n",
       "   gender test_indication corona_result  \n",
       "0  female           Other      negative  \n",
       "1  female           Other      negative  \n",
       "2    male           Other      negative  \n",
       "3  female           Other      negative  \n",
       "4    male           Other      negative  "
      ]
     },
     "execution_count": 6,
     "metadata": {},
     "output_type": "execute_result"
    }
   ],
   "source": [
    "# PREVIEWING COMPLETE DATA\n",
    "\n",
    "pd.set_option('display.max_columns', None)\n",
    "df.head()"
   ]
  },
  {
   "cell_type": "markdown",
   "id": "5556b667",
   "metadata": {},
   "source": [
    "Using Label Encoding, we replace the categorical value with a numeric value between 0 and the number of classes minus 1. If the categorical variable value contains 5 distinct classes, we use (0, 1, 2, 3, and 4).\n",
    "\n",
    "Using the preprocessing module from sklearn package and LabelEncoder class. Also printing the labels with their corresponding values for quick reference."
   ]
  },
  {
   "cell_type": "code",
   "execution_count": 7,
   "id": "e91dae6d",
   "metadata": {},
   "outputs": [
    {
     "name": "stdout",
     "output_type": "stream",
     "text": [
      "cough labels: {'0': 0, '1': 1}\n",
      "fever labels: {'0': 0, '1': 1}\n",
      "sore_throat labels: {'0': 0, '1': 1}\n",
      "shortness_of_breath labels: {'0': 0, '1': 1}\n",
      "head_ache labels: {'0': 0, '1': 1}\n",
      "corona_result labels: {'negative': 0, 'positive': 1}\n",
      "age_60_and_above labels: {'No': 0, 'None': 1, 'Yes': 2}\n",
      "gender labels: {'None': 0, 'female': 1, 'male': 2}\n",
      "test_indication labels: {'Abroad': 0, 'Contact with confirmed': 1, 'Other': 2}\n"
     ]
    }
   ],
   "source": [
    "# LABEL ENCODING\n",
    "\n",
    "df[\"cough\"] = le.fit_transform(df[\"cough\"])\n",
    "le_name_mapping = dict(zip(le.classes_, le.transform(le.classes_)))\n",
    "print('cough labels:',le_name_mapping)\n",
    "\n",
    "df[\"fever\"] = le.fit_transform(df[\"fever\"])\n",
    "le_name_mapping = dict(zip(le.classes_, le.transform(le.classes_)))\n",
    "print('fever labels:',le_name_mapping)\n",
    "\n",
    "df[\"sore_throat\"] = le.fit_transform(df[\"sore_throat\"])\n",
    "le_name_mapping = dict(zip(le.classes_, le.transform(le.classes_)))\n",
    "print('sore_throat labels:',le_name_mapping)\n",
    "\n",
    "df[\"shortness_of_breath\"] = le.fit_transform(df[\"shortness_of_breath\"])\n",
    "le_name_mapping = dict(zip(le.classes_, le.transform(le.classes_)))\n",
    "print('shortness_of_breath labels:',le_name_mapping)\n",
    "\n",
    "df[\"head_ache\"] = le.fit_transform(df[\"head_ache\"])\n",
    "le_name_mapping = dict(zip(le.classes_, le.transform(le.classes_)))\n",
    "print('head_ache labels:',le_name_mapping)\n",
    "\n",
    "df[\"corona_result\"] = le.fit_transform(df[\"corona_result\"])\n",
    "le_name_mapping = dict(zip(le.classes_, le.transform(le.classes_)))\n",
    "print('corona_result labels:',le_name_mapping)\n",
    "\n",
    "df[\"age_60_and_above\"] = le.fit_transform(df[\"age_60_and_above\"])\n",
    "le_name_mapping = dict(zip(le.classes_, le.transform(le.classes_)))\n",
    "print('age_60_and_above labels:',le_name_mapping)\n",
    "\n",
    "df[\"gender\"] = le.fit_transform(df[\"gender\"])\n",
    "le_name_mapping = dict(zip(le.classes_, le.transform(le.classes_)))\n",
    "print('gender labels:',le_name_mapping) \n",
    "\n",
    "df[\"test_indication\"] = le.fit_transform(df[\"test_indication\"])\n",
    "le_name_mapping = dict(zip(le.classes_, le.transform(le.classes_)))\n",
    "print('test_indication labels:',le_name_mapping)"
   ]
  },
  {
   "cell_type": "markdown",
   "id": "dc01c935",
   "metadata": {},
   "source": [
    "The train-test split procedure is used to estimate the performance of machine learning algorithms when they are used to make predictions on data not used to train the model.\n",
    "\n",
    "The scikit-learn Python machine learning library provides an implementation of the train-test split evaluation procedure via the train_test_split() function."
   ]
  },
  {
   "cell_type": "code",
   "execution_count": 8,
   "id": "52ce1221",
   "metadata": {},
   "outputs": [],
   "source": [
    "# SPLITTING THE DATA SET INTO DEPENDENT AND INDEPENDENT COLUMNS\n",
    "\n",
    "x = df.iloc[:, :8]\n",
    "y = df.iloc[:, 8]"
   ]
  },
  {
   "cell_type": "code",
   "execution_count": 9,
   "id": "aa28c730",
   "metadata": {},
   "outputs": [],
   "source": [
    "# TRAIN-TEST SPLITTING\n",
    "\n",
    "from sklearn.model_selection import train_test_split\n",
    "\n",
    "x_train, x_test, y_train, y_test = train_test_split(x, y, test_size = 0.3, random_state = 1700)"
   ]
  },
  {
   "cell_type": "markdown",
   "id": "ba85fa53",
   "metadata": {},
   "source": [
    "Here, I'm applying the Logisitic Regression algorithm for classifying the data as per the target variable. "
   ]
  },
  {
   "cell_type": "code",
   "execution_count": 10,
   "id": "11e6cc40",
   "metadata": {},
   "outputs": [
    {
     "data": {
      "text/plain": [
       "LogisticRegression()"
      ]
     },
     "execution_count": 10,
     "metadata": {},
     "output_type": "execute_result"
    }
   ],
   "source": [
    "# APPLYING LOGISTIC REGRESSION MODEL\n",
    "\n",
    "from sklearn.linear_model import LogisticRegression\n",
    "classifier = LogisticRegression()\n",
    "\n",
    "classifier.fit(x_train, y_train)\n",
    "#print(classifier.predict([[56,7000]]))"
   ]
  },
  {
   "cell_type": "code",
   "execution_count": 11,
   "id": "f183cb0e",
   "metadata": {},
   "outputs": [
    {
     "data": {
      "text/plain": [
       "array([0, 0, 0, ..., 0, 0, 0])"
      ]
     },
     "execution_count": 11,
     "metadata": {},
     "output_type": "execute_result"
    }
   ],
   "source": [
    "import numpy as np\n",
    "\n",
    "np.array(y_test)"
   ]
  },
  {
   "cell_type": "markdown",
   "id": "9f69de76",
   "metadata": {},
   "source": [
    "Predicting the trained results and evaluating model accuracy."
   ]
  },
  {
   "cell_type": "code",
   "execution_count": 12,
   "id": "a3f9ead4",
   "metadata": {},
   "outputs": [
    {
     "data": {
      "text/plain": [
       "array([0, 0, 0, ..., 0, 0, 0])"
      ]
     },
     "execution_count": 12,
     "metadata": {},
     "output_type": "execute_result"
    }
   ],
   "source": [
    "# PREDICTING RESULTS\n",
    "\n",
    "y_pred = classifier.predict(x_test)\n",
    "y_pred"
   ]
  },
  {
   "cell_type": "code",
   "execution_count": 13,
   "id": "04f36f8d",
   "metadata": {},
   "outputs": [
    {
     "name": "stdout",
     "output_type": "stream",
     "text": [
      "[[77771   172]\n",
      " [ 3406  1062]]\n",
      "\n",
      "\n",
      " 0.9565834657994685\n",
      "\n",
      "\n",
      "               precision    recall  f1-score   support\n",
      "\n",
      "           0       0.96      1.00      0.98     77943\n",
      "           1       0.86      0.24      0.37      4468\n",
      "\n",
      "    accuracy                           0.96     82411\n",
      "   macro avg       0.91      0.62      0.68     82411\n",
      "weighted avg       0.95      0.96      0.94     82411\n",
      "\n"
     ]
    }
   ],
   "source": [
    "# ACCURACY SCORE & CLASSIFICATION REPORT\n",
    "\n",
    "from sklearn.metrics import confusion_matrix, accuracy_score, classification_report\n",
    "\n",
    "cm = confusion_matrix(y_test, y_pred)\n",
    "print(cm)\n",
    "print(\"\\n\\n\",accuracy_score(y_test, y_pred))\n",
    "print(\"\\n\\n\",classification_report(y_test,y_pred))"
   ]
  },
  {
   "cell_type": "code",
   "execution_count": 14,
   "id": "b2013f4e",
   "metadata": {},
   "outputs": [
    {
     "name": "stdout",
     "output_type": "stream",
     "text": [
      "[0]\n",
      "[1]\n"
     ]
    }
   ],
   "source": [
    "# GIVING PREDICTIONS\n",
    "\n",
    "print(classifier.predict([[0, 1, 0, 0, 0, 0, 1, 2]]))\n",
    "print(classifier.predict([[1, 1, 1, 1, 0, 0, 1, 2]]))"
   ]
  },
  {
   "cell_type": "code",
   "execution_count": 15,
   "id": "1c021adc",
   "metadata": {},
   "outputs": [
    {
     "data": {
      "text/plain": [
       "0.9677348897598621"
      ]
     },
     "execution_count": 15,
     "metadata": {},
     "output_type": "execute_result"
    }
   ],
   "source": [
    "# APPLYING KNN\n",
    "\n",
    "from sklearn.neighbors import KNeighborsClassifier\n",
    "knn = KNeighborsClassifier(n_neighbors = 7)\n",
    "\n",
    "knn.fit(x_train, y_train)\n",
    "pred = knn.predict(x_test)\n",
    "accuracy_score(y_test, pred)"
   ]
  },
  {
   "cell_type": "code",
   "execution_count": 16,
   "id": "a2b58f12",
   "metadata": {},
   "outputs": [
    {
     "data": {
      "text/plain": [
       "0.9697734525730788"
      ]
     },
     "execution_count": 16,
     "metadata": {},
     "output_type": "execute_result"
    }
   ],
   "source": [
    "# SUPPORT VECTOR CLASSIFIER\n",
    "\n",
    "from sklearn.svm import SVC\n",
    "svcclassifier = SVC(kernel = \"rbf\", random_state = 20)\n",
    "\n",
    "svcclassifier.fit(x_train, y_train)\n",
    "pred = svcclassifier.predict(x_test)\n",
    "accuracy_score(y_test, pred)"
   ]
  },
  {
   "cell_type": "code",
   "execution_count": 17,
   "id": "e0f113f2",
   "metadata": {},
   "outputs": [
    {
     "data": {
      "text/plain": [
       "0.9653444321753164"
      ]
     },
     "execution_count": 17,
     "metadata": {},
     "output_type": "execute_result"
    }
   ],
   "source": [
    "# DECISION TREE CLASSIFIER\n",
    "\n",
    "from sklearn.tree import DecisionTreeClassifier\n",
    "from sklearn import tree\n",
    "dtree = DecisionTreeClassifier(criterion = \"gini\", max_depth = 3, random_state = 20)\n",
    "\n",
    "dtree.fit(x_train,y_train)\n",
    "pred = dtree.predict(x_test)\n",
    "accuracy_score(y_test, pred)"
   ]
  },
  {
   "cell_type": "code",
   "execution_count": 18,
   "id": "0db266f9",
   "metadata": {},
   "outputs": [
    {
     "data": {
      "text/plain": [
       "0.9697491839681596"
      ]
     },
     "execution_count": 18,
     "metadata": {},
     "output_type": "execute_result"
    }
   ],
   "source": [
    "# RANDOM FOREST CLASSIFIER\n",
    "\n",
    "from sklearn import tree\n",
    "from sklearn.ensemble import RandomForestClassifier\n",
    "RF = RandomForestClassifier(n_estimators = 15, random_state = 20) \n",
    "\n",
    "RF.fit(x_train, y_train)\n",
    "pred = RF.predict(x_test)\n",
    "accuracy_score(y_test, pred)"
   ]
  },
  {
   "cell_type": "code",
   "execution_count": 19,
   "id": "8802dff5",
   "metadata": {},
   "outputs": [
    {
     "data": {
      "text/plain": [
       "0.893910193203993"
      ]
     },
     "execution_count": 19,
     "metadata": {},
     "output_type": "execute_result"
    }
   ],
   "source": [
    "# GRADIENT BOOSTING CLASSIFIER\n",
    "\n",
    "from sklearn.ensemble import GradientBoostingClassifier\n",
    "from sklearn.metrics import roc_auc_score\n",
    "gb_model = GradientBoostingClassifier(n_estimators = 15, random_state = 20)\n",
    "\n",
    "gb_model.fit(x_train, y_train)\n",
    "roc_auc_score(y_test, gb_model.predict_proba(x_test)[:, 1])"
   ]
  },
  {
   "cell_type": "code",
   "execution_count": null,
   "id": "77e902c9",
   "metadata": {},
   "outputs": [],
   "source": []
  }
 ],
 "metadata": {
  "kernelspec": {
   "display_name": "Python 3",
   "language": "python",
   "name": "python3"
  },
  "language_info": {
   "codemirror_mode": {
    "name": "ipython",
    "version": 3
   },
   "file_extension": ".py",
   "mimetype": "text/x-python",
   "name": "python",
   "nbconvert_exporter": "python",
   "pygments_lexer": "ipython3",
   "version": "3.8.10"
  }
 },
 "nbformat": 4,
 "nbformat_minor": 5
}
